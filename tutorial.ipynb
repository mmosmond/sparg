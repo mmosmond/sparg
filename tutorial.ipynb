{
 "cells": [
  {
   "cell_type": "code",
   "execution_count": 21,
   "metadata": {},
   "outputs": [],
   "source": [
    "from sparg import process_trees, dispersal, locate\n",
    "import msprime\n",
    "import numpy as np\n",
    "import os, csv"
   ]
  },
  {
   "cell_type": "markdown",
   "metadata": {},
   "source": [
    "# Estimating dispersal"
   ]
  },
  {
   "cell_type": "markdown",
   "metadata": {},
   "source": [
    "## A simple check"
   ]
  },
  {
   "cell_type": "markdown",
   "metadata": {},
   "source": [
    "We first generate a tree sequence with n samples using msprime"
   ]
  },
  {
   "cell_type": "code",
   "execution_count": 35,
   "metadata": {},
   "outputs": [
    {
     "data": {
      "text/html": [
       "\n",
       "            <div>\n",
       "              <style>\n",
       "                .tskit-table thead tr th {text-align: left;padding: 0.5em 0.5em;}\n",
       "                .tskit-table tbody tr td {padding: 0.5em 0.5em;}\n",
       "                .tskit-table tbody tr td:first-of-type {text-align: left;}\n",
       "                .tskit-details-label {vertical-align: top; padding-right:5px;}\n",
       "                .tskit-table-set {display: inline-flex;flex-wrap: wrap;margin: -12px 0 0 -12px;width: calc(100% + 12px);}\n",
       "                .tskit-table-set-table {margin: 12px 0 0 12px;}\n",
       "                details {display: inline-block;}\n",
       "                summary {cursor: pointer; outline: 0; display: list-item;}\n",
       "              </style>\n",
       "              <div class=\"tskit-table-set\">\n",
       "                <div class=\"tskit-table-set-table\">\n",
       "                  <table class=\"tskit-table\">\n",
       "                    <thead>\n",
       "                      <tr>\n",
       "                        <th style=\"padding:0;line-height:21px;\">\n",
       "                          <img style=\"height: 32px;display: inline-block;padding: 3px 5px 3px 0;\"src=\"https://raw.githubusercontent.com/tskit-dev/administrative/main/tskit_logo.svg\"/>\n",
       "                          <a target=\"_blank\" href=\"https://tskit.readthedocs.io/en/latest/python-api.html#the-treesequence-class\"> Tree Sequence\n",
       "                        </th>\n",
       "                      </tr>\n",
       "                    </thead>\n",
       "                    <tbody>\n",
       "                      <tr><td>Trees</td><td>45072</td></tr>\n",
       "                      <tr><td>Sequence Length</td><td>100000000.0</td></tr>\n",
       "                      <tr><td>Sample Nodes</td><td>100</td></tr>\n",
       "                      <tr><td>Total Size</td><td>11.8 MiB</td></tr>\n",
       "                      <tr>\n",
       "                        <td>Metadata</td><td style=\"text-align: left;\">No Metadata</td></tr>\n",
       "                    </tbody>\n",
       "                  </table>\n",
       "                </div>\n",
       "                <div class=\"tskit-table-set-table\">\n",
       "                  <table class=\"tskit-table\">\n",
       "                    <thead>\n",
       "                      <tr>\n",
       "                        <th style=\"line-height:21px;\">Table</th>\n",
       "                        <th>Rows</th>\n",
       "                        <th>Size</th>\n",
       "                        <th>Has Metadata</th>\n",
       "                      </tr>\n",
       "                    </thead>\n",
       "                    <tbody>\n",
       "                    \n",
       "                  <tr>\n",
       "                    <td>Edges</td>\n",
       "                      <td>159670</td>\n",
       "                      <td>4.3 MiB</td>\n",
       "                      <td style=\"text-align: center;\">\n",
       "                        \n",
       "                      </td>\n",
       "                    </tr>\n",
       "                \n",
       "                  <tr>\n",
       "                    <td>Individuals</td>\n",
       "                      <td>0</td>\n",
       "                      <td>12 Bytes</td>\n",
       "                      <td style=\"text-align: center;\">\n",
       "                        \n",
       "                      </td>\n",
       "                    </tr>\n",
       "                \n",
       "                  <tr>\n",
       "                    <td>Migrations</td>\n",
       "                      <td>0</td>\n",
       "                      <td>4 Bytes</td>\n",
       "                      <td style=\"text-align: center;\">\n",
       "                        \n",
       "                      </td>\n",
       "                    </tr>\n",
       "                \n",
       "                  <tr>\n",
       "                    <td>Mutations</td>\n",
       "                      <td>129739</td>\n",
       "                      <td>3.6 MiB</td>\n",
       "                      <td style=\"text-align: center;\">\n",
       "                        \n",
       "                      </td>\n",
       "                    </tr>\n",
       "                \n",
       "                  <tr>\n",
       "                    <td>Nodes</td>\n",
       "                      <td>28390</td>\n",
       "                      <td>665.4 KiB</td>\n",
       "                      <td style=\"text-align: center;\">\n",
       "                        \n",
       "                      </td>\n",
       "                    </tr>\n",
       "                \n",
       "                  <tr>\n",
       "                    <td>Populations</td>\n",
       "                      <td>1</td>\n",
       "                      <td>8 Bytes</td>\n",
       "                      <td style=\"text-align: center;\">\n",
       "                        \n",
       "                      </td>\n",
       "                    </tr>\n",
       "                \n",
       "                  <tr>\n",
       "                    <td>Provenances</td>\n",
       "                      <td>1</td>\n",
       "                      <td>1021 Bytes</td>\n",
       "                      <td style=\"text-align: center;\">\n",
       "                        \n",
       "                      </td>\n",
       "                    </tr>\n",
       "                \n",
       "                  <tr>\n",
       "                    <td>Sites</td>\n",
       "                      <td>129739</td>\n",
       "                      <td>2.1 MiB</td>\n",
       "                      <td style=\"text-align: center;\">\n",
       "                        \n",
       "                      </td>\n",
       "                    </tr>\n",
       "                \n",
       "                    </tbody>\n",
       "                  </table>\n",
       "                </div>\n",
       "              </div>\n",
       "            </div>\n",
       "            "
      ],
      "text/plain": [
       "<tskit.trees.TreeSequence at 0x7f54fcc78fa0>"
      ]
     },
     "execution_count": 35,
     "metadata": {},
     "output_type": "execute_result"
    }
   ],
   "source": [
    "n = 100\n",
    "Ne = 5000\n",
    "L = 1e8\n",
    "RBP = 5e-9\n",
    "U = 1.25e-8\n",
    "ts = msprime.simulate(sample_size=n, Ne=Ne, length=L, recombination_rate=RBP, mutation_rate=U, random_seed=1)\n",
    "ts"
   ]
  },
  {
   "cell_type": "markdown",
   "metadata": {},
   "source": [
    "Now let's use sparg to process some evenly spaced trees "
   ]
  },
  {
   "cell_type": "code",
   "execution_count": 36,
   "metadata": {},
   "outputs": [
    {
     "name": "stdout",
     "output_type": "stream",
     "text": [
      "converting to dendropy trees...\n"
     ]
    },
    {
     "data": {
      "application/vnd.jupyter.widget-view+json": {
       "model_id": "72604a01dfc549d9a195ceb7ee46611b",
       "version_major": 2,
       "version_minor": 0
      },
      "text/plain": [
       "  0%|          | 0/100 [00:00<?, ?it/s]"
      ]
     },
     "metadata": {},
     "output_type": "display_data"
    },
    {
     "name": "stdout",
     "output_type": "stream",
     "text": [
      "processing...\n"
     ]
    },
    {
     "data": {
      "application/vnd.jupyter.widget-view+json": {
       "model_id": "5cc00a04094e45f4aebf38532d47f9dc",
       "version_major": 2,
       "version_minor": 0
      },
      "text/plain": [
       "  0%|          | 0/100 [00:00<?, ?it/s]"
      ]
     },
     "metadata": {},
     "output_type": "display_data"
    }
   ],
   "source": [
    "ntrees = 100 #number of trees to process\n",
    "which_trees = [int(i) for i in np.linspace(0, ts.num_trees-1, ntrees)] #evenly space these trees along the tree sequence\n",
    "\n",
    "shared_times, samples = process_trees.process_trees(ts=ts, which_trees=which_trees, from_ts=True, important=False) #use sparg to process the trees"
   ]
  },
  {
   "cell_type": "markdown",
   "metadata": {},
   "source": [
    "Now, to do a simple check, we'll position the samples as if they were located based on Brownian motion down the first tree with variance sigma^2 in x and y and no covariance"
   ]
  },
  {
   "cell_type": "code",
   "execution_count": 37,
   "metadata": {},
   "outputs": [],
   "source": [
    "sigma = 0.5\n",
    "np.random.seed(1)\n",
    "xs = np.random.multivariate_normal(mean = np.zeros(n), cov = sigma**2 * shared_times[0][0][0])\n",
    "ys = np.random.multivariate_normal(mean = np.zeros(n), cov = sigma**2 * shared_times[0][0][0])\n",
    "ix = [np.where(np.array(samples[0][0][0]) == i)[0][0] for i in range(n)] #clunky way to get order of samples\n",
    "locations = np.array([[xs[i], ys[i]] for i in ix])"
   ]
  },
  {
   "cell_type": "markdown",
   "metadata": {},
   "source": [
    "And then we can use sparg to estimate dispersal at this tree and check that our method estimates something close to the true dispersal rate"
   ]
  },
  {
   "cell_type": "code",
   "execution_count": 38,
   "metadata": {},
   "outputs": [
    {
     "name": "stdout",
     "output_type": "stream",
     "text": [
      "searching for maximum likelihood parameters...\n",
      "the max is  [0.44363001 0.47345042 0.09404812]\n",
      "finding the max took 0.2248096466064453 seconds\n"
     ]
    }
   ],
   "source": [
    "x0 = [0.5, 0.5, 0] #initial guess for parameters (sd in x, sd in y, correlation bw x and y)\n",
    "bnds = ((1e-6,None), (1e-6,None), (-0.99,0.99)) # bounds on the parameters (eg to keep the sd's positive)\n",
    "\n",
    "mle = dispersal.estimate(locations=locations, shared_times=shared_times[:1], samples=samples[:1], important=False, x0=x0, bnds=bnds)"
   ]
  },
  {
   "cell_type": "markdown",
   "metadata": {},
   "source": [
    "Good, the SD in x and y (the first two numbers, respectively) are both close to sigma and the correlation (the final number) is close to 0."
   ]
  },
  {
   "cell_type": "markdown",
   "metadata": {},
   "source": [
    "In this case we can actually just calculate the mle analytically, as a check that the numerical optimizer is working"
   ]
  },
  {
   "cell_type": "code",
   "execution_count": 39,
   "metadata": {},
   "outputs": [
    {
     "data": {
      "text/plain": [
       "(0.44363002150525394, 0.4734504767382652, 0.09404789956492444)"
      ]
     },
     "execution_count": 39,
     "metadata": {},
     "output_type": "execute_result"
    }
   ],
   "source": [
    "Sigma = dispersal.mle(locations=locations[samples[0][0][0]], shared_time=shared_times[0][0][0]) #here we use the first subtree of the first sample at the first locus\n",
    "Sigma[0,0]**0.5, Sigma[1,1]**0.5, Sigma[0,1] / (Sigma[0,0]**0.5 * Sigma[1,1]**0.5) #convert from covariance matrix to SDs and correlation"
   ]
  },
  {
   "cell_type": "markdown",
   "metadata": {},
   "source": [
    "In practice we'll want to find the maximum composite likelihood estimate of dispersal rate across many trees"
   ]
  },
  {
   "cell_type": "code",
   "execution_count": 7,
   "metadata": {},
   "outputs": [
    {
     "name": "stdout",
     "output_type": "stream",
     "text": [
      "searching for maximum likelihood parameters...\n",
      "the max is  [ 9.80585519  7.60829136 -0.89567912]\n",
      "finding the max took 73.14066767692566 seconds\n"
     ]
    }
   ],
   "source": [
    "mcle = dispersal.estimate(locations=locations, shared_times=shared_times, samples=samples, important=False, x0=x0, bnds=bnds) #might take ~2 minutes"
   ]
  },
  {
   "cell_type": "markdown",
   "metadata": {},
   "source": [
    "The dispersal rate will, in general, be higher when we use trees other than the first, which is the only tree we determined the locations by."
   ]
  },
  {
   "cell_type": "markdown",
   "metadata": {},
   "source": [
    "## Using inferred trees"
   ]
  },
  {
   "cell_type": "markdown",
   "metadata": {},
   "source": [
    "In practice we will not know the true trees and so will want to infer the trees and then integrate over uncertainty by sampling each tree multiple times. "
   ]
  },
  {
   "cell_type": "code",
   "execution_count": 8,
   "metadata": {},
   "outputs": [],
   "source": [
    "\n"
   ]
  },
  {
   "cell_type": "code",
   "execution_count": 40,
   "metadata": {},
   "outputs": [
    {
     "data": {
      "text/plain": [
       "256"
      ]
     },
     "execution_count": 40,
     "metadata": {},
     "output_type": "execute_result"
    }
   ],
   "source": [
    "datadir = 'tutorial_data/'\n",
    "filename = 'example'\n",
    "fname = datadir + filename\n",
    "PATH_TO_RELATE = '~/programs/relate_v1.1.4_x86_64_static/' #update this for your machine (download from https://myersgroup.github.io/relate/index.html)\n",
    "memory = 5 #Gb\n",
    "\n",
    "# create vcf from tree sequence\n",
    "with open(datadir + filename + \".vcf.gz\", \"w\") as vcf_file:\n",
    "    ts.write_vcf(vcf_file, ploidy=2)\n",
    "\n",
    "# convert vcf to haps/sample format\n",
    "script=\"%s/bin/RelateFileFormats \\\n",
    "            --mode ConvertFromVcf \\\n",
    "            --haps %s.haps \\\n",
    "            --sample %s.sample \\\n",
    "            --chr 1 \\\n",
    "            -i %s\" %(PATH_TO_RELATE, fname, fname, fname)\n",
    "os.system(script)\n",
    "\n",
    "# # overwrite sample file with haploid version\n",
    "# with open(fname + '.sample', mode='w') as file:\n",
    "#     writer = csv.writer(file, delimiter=' ') #space delimited\n",
    "#     writer.writerow(['ID_1','ID_2','missing']) #header\n",
    "#     writer.writerow(['0','0','0']) #for some reason relate starts with this null first row, https://myersgroup.github.io/relate/input_data.html\n",
    "#     for i in range(n):\n",
    "#         data = np.hstack((i, 'NA', 0)) #add each individual as row, with NA signifying that these are haploids\n",
    "#         writer.writerow(data)\n",
    "# file.close()\n",
    "\n",
    "# make uniform recombination map\n",
    "r = (1 - (1 - 2 * RBP)**L)/2 #recombination distance from one end of chromosome to other\n",
    "cm = 50 * np.log(1/(1-2*r)) #length in centiMorgans\n",
    "cr = cm/L * 1e6 #cM per million bases\n",
    "script = \"pos COMBINED_rate Genetic_Map \\n0 %f 0 \\n%d %f %f\" %(cr, L, cr, cm)\n",
    "os.system(\"echo '\" + script + \"' > %s.map\" %fname)\n",
    "\n",
    "# infer tree with Relate (using correct mutation rate and recombination map, and estimated (diploid) effective population size)\n",
    "script=\"%s/bin/Relate \\\n",
    "            --mode All \\\n",
    "            -m %.10f \\\n",
    "            -N %f \\\n",
    "            --haps %s.haps \\\n",
    "            --sample %s.sample \\\n",
    "            --map %s.map \\\n",
    "            --memory %d \\\n",
    "            -o %s\" %(PATH_TO_RELATE, U, 2*Ne, fname, fname, fname, memory, filename)\n",
    "os.system(script)"
   ]
  },
  {
   "cell_type": "markdown",
   "metadata": {},
   "source": [
    "# Locating ancestors"
   ]
  },
  {
   "cell_type": "code",
   "execution_count": 19,
   "metadata": {},
   "outputs": [
    {
     "data": {
      "text/plain": [
       "'0.0000000125'"
      ]
     },
     "execution_count": 19,
     "metadata": {},
     "output_type": "execute_result"
    }
   ],
   "source": [
    "'%.10f' %U"
   ]
  },
  {
   "cell_type": "code",
   "execution_count": null,
   "metadata": {},
   "outputs": [],
   "source": []
  }
 ],
 "metadata": {
  "kernelspec": {
   "display_name": "sparg",
   "language": "python",
   "name": "sparg"
  },
  "language_info": {
   "codemirror_mode": {
    "name": "ipython",
    "version": 3
   },
   "file_extension": ".py",
   "mimetype": "text/x-python",
   "name": "python",
   "nbconvert_exporter": "python",
   "pygments_lexer": "ipython3",
   "version": "3.8.5"
  }
 },
 "nbformat": 4,
 "nbformat_minor": 5
}
